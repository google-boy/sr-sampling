{
 "cells": [
  {
   "cell_type": "markdown",
   "metadata": {},
   "source": [
    "# Stratified Random Sampling\n",
    "\n",
    "Project to illustrate stratified random sampling.\n",
    "\n",
    "The population is divided into small groups called strata based on a particular characteristic then a subject is chosen from each stratum randomly."
   ]
  },
  {
   "cell_type": "code",
   "execution_count": 1,
   "metadata": {},
   "outputs": [
    {
     "name": "stdout",
     "output_type": "stream",
     "text": [
      "      Name   ID Grade  Category\n",
      "0  Ibrahim  001     A         1\n",
      "1  Ganiyat  002     B         2\n",
      "2     Joel  003     C         2\n",
      "3   Elijah  004     A         1\n",
      "4    Yusuf  005     B         3\n",
      "5   Nurain  006     C         3\n",
      "6     Dayo  007     A         1\n",
      "7    David  008     A         2\n",
      "8      Olu  009     B         3\n",
      "9     Tobi  010     A         3\n"
     ]
    }
   ],
   "source": [
    "import pandas as pd\n",
    "\n",
    "students = {\n",
    "    \n",
    "    \"Name\": [\"Ibrahim\", \"Ganiyat\", \"Joel\", \"Elijah\", \"Yusuf\", \"Nurain\", \n",
    "            \"Dayo\", \"David\", \"Olu\", \"Tobi\"],\n",
    "    \n",
    "    \"ID\":  ['001', '002', '003', '004', '005', '006','007', '008', '009', '010'],\n",
    "    \n",
    "    \"Grade\": ['A', 'B', 'C', 'A', 'B', 'C', 'A', 'A', 'B', 'A'],\n",
    "    \n",
    "    \"Category\": [1, 2, 2, 1, 3, 3, 1, 2, 3, 3]\n",
    "}\n",
    "\n",
    "df = pd.DataFrame(students)\n",
    "\n",
    "print(df)"
   ]
  },
  {
   "cell_type": "markdown",
   "metadata": {},
   "source": [
    "## Proportionate Stratified Random Sampling."
   ]
  },
  {
   "cell_type": "code",
   "execution_count": 9,
   "metadata": {},
   "outputs": [
    {
     "name": "stdout",
     "output_type": "stream",
     "text": [
      "      Name   ID Grade  Category\n",
      "6     Dayo  007     A         1\n",
      "7    David  008     A         2\n",
      "3   Elijah  004     A         1\n",
      "1  Ganiyat  002     B         2\n",
      "8      Olu  009     B         3\n",
      "5   Nurain  006     C         3\n"
     ]
    }
   ],
   "source": [
    "df_sample = df.groupby(\"Grade\", group_keys=False).apply(lambda x:x.sample(frac=0.6))\n",
    "print(df_sample)"
   ]
  },
  {
   "cell_type": "markdown",
   "metadata": {},
   "source": [
    "Students are grouped according to grades (because a student cannot have two grades), then sampling is done randomly on those groups such that the resulting sample has data that is proportionate to the entire population."
   ]
  },
  {
   "cell_type": "code",
   "execution_count": 10,
   "metadata": {},
   "outputs": [
    {
     "name": "stdout",
     "output_type": "stream",
     "text": [
      "A    0.5\n",
      "B    0.3\n",
      "C    0.2\n",
      "Name: Grade, dtype: float64\n",
      "A    0.5\n",
      "B    0.3\n",
      "C    0.2\n",
      "Name: Grade, dtype: float64\n"
     ]
    }
   ],
   "source": [
    "print(df[\"Grade\"].value_counts(True))\n",
    "print(df_sample[\"Grade\"].value_counts(normalize=True).round(1))"
   ]
  },
  {
   "cell_type": "markdown",
   "metadata": {},
   "source": [
    "## Disproportionate Stratified Random Sampling"
   ]
  },
  {
   "cell_type": "code",
   "execution_count": 11,
   "metadata": {},
   "outputs": [
    {
     "name": "stdout",
     "output_type": "stream",
     "text": [
      "      Name   ID Grade  Category\n",
      "0  Ibrahim  001     A         1\n",
      "6     Dayo  007     A         1\n",
      "4    Yusuf  005     B         3\n",
      "1  Ganiyat  002     B         2\n",
      "5   Nurain  006     C         3\n",
      "2     Joel  003     C         2\n"
     ]
    }
   ],
   "source": [
    "df_sample2 = df.groupby('Grade', group_keys=False).apply(lambda x:x.sample(n=2))\n",
    "print(df_sample2)"
   ]
  },
  {
   "cell_type": "markdown",
   "metadata": {},
   "source": [
    "Here random sampling of the strata is taken without regard to proportion. It is just done based on a specified number."
   ]
  },
  {
   "cell_type": "code",
   "execution_count": 12,
   "metadata": {},
   "outputs": [
    {
     "name": "stdout",
     "output_type": "stream",
     "text": [
      "A    0.5\n",
      "B    0.3\n",
      "C    0.2\n",
      "Name: Grade, dtype: float64\n",
      "A    0.3\n",
      "B    0.3\n",
      "C    0.3\n",
      "Name: Grade, dtype: float64\n"
     ]
    }
   ],
   "source": [
    "print(df['Grade'].value_counts(True))\n",
    "print(df_sample2['Grade'].value_counts(normalize=True).round(1))"
   ]
  }
 ],
 "metadata": {
  "kernelspec": {
   "display_name": "Python 3.10.6 ('ds-kenya': venv)",
   "language": "python",
   "name": "python3"
  },
  "language_info": {
   "codemirror_mode": {
    "name": "ipython",
    "version": 3
   },
   "file_extension": ".py",
   "mimetype": "text/x-python",
   "name": "python",
   "nbconvert_exporter": "python",
   "pygments_lexer": "ipython3",
   "version": "3.10.6"
  },
  "orig_nbformat": 4,
  "vscode": {
   "interpreter": {
    "hash": "aea084236829a35cdbdc223d9d8444357abea4c56a15e23d2fe1e386f25aadbe"
   }
  }
 },
 "nbformat": 4,
 "nbformat_minor": 2
}
